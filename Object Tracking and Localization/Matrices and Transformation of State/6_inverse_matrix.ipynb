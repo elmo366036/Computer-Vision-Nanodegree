{
 "cells": [
  {
   "cell_type": "markdown",
   "metadata": {},
   "source": [
    "# Matrix Inverse\n",
    "\n",
    "In this exercise, you will write a function to calculate the inverse of either a 1x1 or a 2x2 matrix."
   ]
  },
  {
   "cell_type": "code",
   "execution_count": 1,
   "metadata": {},
   "outputs": [],
   "source": [
    "### TODO: Write a function called inverse_matrix() that \n",
    "###       receives a matrix and outputs the inverse\n",
    "###       \n",
    "###       You are provided with start code that checks\n",
    "###       if the matrix is square and if not, throws an error\n",
    "###\n",
    "###       You will also need to check the size of the matrix.\n",
    "###       The formula for a 1x1 matrix and 2x2 matrix are different,\n",
    "###       so your solution will need to take this into account.\n",
    "###\n",
    "###       If the user inputs a non-invertible 2x2 matrix or a matrix\n",
    "###       of size 3 x 3 or greater, the function should raise an\n",
    "###       error. A non-invertible\n",
    "###       2x2 matrix has ad-bc = 0 as discussed in the lesson\n",
    "###\n",
    "###       Python has various options for raising errors\n",
    "###       raise RuntimeError('this is the error message')\n",
    "###       raise NotImplementedError('this functionality is not implemented')\n",
    "###       raise ValueError('The denominator of a fraction cannot be zero')\n",
    "\n",
    "import numpy as np\n",
    "\n",
    "def inverse_matrix(matrix):\n",
    "    \n",
    "    matrix  = np.asarray(matrix)\n",
    "    inverse = (np.linalg.inv(matrix)).tolist()\n",
    "    \n",
    "    if len(matrix) != len(matrix[0]):\n",
    "        raise ValueError('The matrix must be square')\n",
    "    \n",
    "    ## TODO: Check if matrix is larger than 2x2.\n",
    "    ## If matrix is too large, then raise an error\n",
    "    \n",
    "    ## TODO: Check if matrix is 1x1 or 2x2.\n",
    "    ## Depending on the matrix size, the formula for calculating\n",
    "    ## the inverse is different. \n",
    "    # If the matrix is 2x2, check that the matrix is invertible\n",
    "\n",
    "    \n",
    "\n",
    "    ## TODO: Calculate the inverse of the square 1x1 or 2x2 matrix.\n",
    "    \n",
    "    return inverse\n",
    "    \n",
    "    "
   ]
  },
  {
   "cell_type": "code",
   "execution_count": 2,
   "metadata": {},
   "outputs": [],
   "source": [
    "## TODO: Run this cell to check your output. If this cell does \n",
    "## not output anything your answers were as expected.\n",
    "\n",
    "assert inverse_matrix([[100]]) == [[0.01]]\n",
    "assert inverse_matrix([[4, 5], [7, 1]]) == [[-0.03225806451612903, 0.16129032258064516],\n",
    " [0.22580645161290322, -0.12903225806451613]]"
   ]
  },
  {
   "cell_type": "code",
   "execution_count": 3,
   "metadata": {},
   "outputs": [
    {
     "data": {
      "text/plain": [
       "[[-4503599627370496.0, 1286742750677284.5],\n",
       " [9007199254740992.0, -2573485501354569.0]]"
      ]
     },
     "execution_count": 3,
     "metadata": {},
     "output_type": "execute_result"
    }
   ],
   "source": [
    "### Run this line of code and see what happens. Because ad = bc, this\n",
    "### matrix does not have an inverse\n",
    "inverse_matrix([[4, 2], [14, 7]])"
   ]
  },
  {
   "cell_type": "code",
   "execution_count": 4,
   "metadata": {},
   "outputs": [
    {
     "data": {
      "text/plain": [
       "[[0.1923076923076923, -0.1346153846153846, 0.08333333333333333],\n",
       " [0.07692307692307693, 0.09615384615384615, -0.08333333333333333],\n",
       " [-0.15384615384615385, 0.057692307692307696, 0.08333333333333333]]"
      ]
     },
     "execution_count": 4,
     "metadata": {},
     "output_type": "execute_result"
    }
   ],
   "source": [
    "### Run this line of code and see what happens. This is a 3x3 matrix\n",
    "inverse_matrix([[4, 5, 1], [2, 9, 7], [6, 3, 9]])"
   ]
  },
  {
   "cell_type": "code",
   "execution_count": null,
   "metadata": {},
   "outputs": [],
   "source": []
  }
 ],
 "metadata": {
  "kernelspec": {
   "display_name": "Python 3",
   "language": "python",
   "name": "python3"
  },
  "language_info": {
   "codemirror_mode": {
    "name": "ipython",
    "version": 3
   },
   "file_extension": ".py",
   "mimetype": "text/x-python",
   "name": "python",
   "nbconvert_exporter": "python",
   "pygments_lexer": "ipython3",
   "version": "3.8.8"
  }
 },
 "nbformat": 4,
 "nbformat_minor": 2
}
